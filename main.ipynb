{
 "cells": [
  {
   "cell_type": "markdown",
   "metadata": {},
   "source": [
    "# Linear Regression from Scratch"
   ]
  },
  {
   "cell_type": "markdown",
   "metadata": {},
   "source": [
    "# Import Libraries"
   ]
  },
  {
   "cell_type": "code",
   "execution_count": 177,
   "metadata": {},
   "outputs": [],
   "source": [
    "import numpy as np\n",
    "import matplotlib.pyplot as plt"
   ]
  },
  {
   "cell_type": "markdown",
   "metadata": {},
   "source": [
    "# Create dataset"
   ]
  },
  {
   "cell_type": "markdown",
   "metadata": {},
   "source": [
    "## Create X and Y"
   ]
  },
  {
   "cell_type": "code",
   "execution_count": 178,
   "metadata": {},
   "outputs": [],
   "source": [
    "# Number of examples\n",
    "n = 100\n",
    "limit = 100\n",
    "\n",
    "# Create independent variable x\n",
    "x = np.random.randint(0, limit, (n))\n",
    "\n",
    "# Create dependent variable y\n",
    "y = 4.5 * x + np.random.randint(-limit, limit, (n)) * np.random.uniform(0, 1, (n))"
   ]
  },
  {
   "cell_type": "code",
   "execution_count": 179,
   "metadata": {},
   "outputs": [
    {
     "name": "stdout",
     "output_type": "stream",
     "text": [
      "X: 100 values\n",
      "Y: 100 values\n"
     ]
    }
   ],
   "source": [
    "print(f\"X: {len(x)} values\")\n",
    "print(f\"Y: {len(y)} values\")"
   ]
  },
  {
   "cell_type": "markdown",
   "metadata": {},
   "source": [
    "## Plot X and Y"
   ]
  },
  {
   "cell_type": "code",
   "execution_count": 180,
   "metadata": {},
   "outputs": [
    {
     "data": {
      "image/png": "[encoded data removed]",
      "text/plain": [
       "<Figure size 640x480 with 1 Axes>"
      ]
     },
     "metadata": {},
     "output_type": "display_data"
    }
   ],
   "source": [
    "plt.scatter(x, y)\n",
    "plt.title(\"Data\")\n",
    "plt.xlabel(\"X\")\n",
    "plt.ylabel(\"Y\")\n",
    "plt.grid(True)\n",
    "plt.show()"
   ]
  },
  {
   "cell_type": "markdown",
   "metadata": {},
   "source": [
    "In the folloming code me will attempt to find a best-fit regression line to model this data."
   ]
  },
  {
   "cell_type": "markdown",
   "metadata": {},
   "source": [
    "# Model"
   ]
  },
  {
   "cell_type": "code",
   "execution_count": 181,
   "metadata": {},
   "outputs": [],
   "source": [
    "def forward_prop(x: np.ndarray, m: np.ndarray, b: np.ndarray) -> np.ndarray:\n",
    "    \"\"\"Calculates y_hat\"\"\"\n",
    "    \n",
    "    return m * x + b\n",
    "\n",
    "def calc_loss(y_hat: np.ndarray, y_true: np.ndarray) -> np.ndarray:\n",
    "    \"\"\"Calculates the loss\"\"\"\n",
    "\n",
    "    return (y_hat - y_true) ** 2\n",
    "\n",
    "def loss_derivative(y_hat: np.ndarray, y_true: np.ndarray) -> np.ndarray:\n",
    "    \"\"\"Calculates the derivative of the loss mith respect to y_hat\"\"\"\n",
    "\n",
    "    return 2 * (y_hat - y_true)\n",
    "\n",
    "def gradient_descent(x: np.ndarray, y: np.ndarray, y_hat: np.ndarray, m: float, b: float, learning_rate: float) -> tuple:\n",
    "    \"\"\"Calculates the derivative of the loss mith respect to the model parameters and updates them using gradient descent.\"\"\"\n",
    "    \n",
    "    # calculate partial derivative of loss mith respect to y_hat\n",
    "    dloss_dyhat = loss_derivative(y_hat, y)\n",
    "\n",
    "    # calculate partial derivative of loss mith respect to m\n",
    "    dloss_dm = dloss_dyhat * x\n",
    "\n",
    "    # calculate parital derivative of loss mith respect to b\n",
    "    dloss_db = dloss_dyhat\n",
    "\n",
    "    # take average of derivatives\n",
    "    dloss_dm = np.average(dloss_dm)\n",
    "    dloss_db = np.average(dloss_db)\n",
    "\n",
    "    # update parameters\n",
    "    m -= learning_rate * dloss_dm\n",
    "    b -= learning_rate * dloss_db\n",
    "\n",
    "    return m, b\n",
    "\n",
    "\n",
    "def train(x: np.ndarray, y: np.ndarray, m: float, b: float, epochs: int, learning_rate: float) -> tuple:\n",
    "    \"\"\"Finds the best-fit regression line. Retuns the slope 'm' and the y-intercept 'b'\"\"\"\n",
    "    \n",
    "    for e in range(1, epochs+1):\n",
    "        print(f\"Epoch {e}\")\n",
    "        # calculate y_hat using the formula m*x+b\n",
    "        y_hat = forward_prop(x, m, b)\n",
    "        # calculate the loss\n",
    "        loss = np.average(calc_loss(y_hat, y))\n",
    "        print(f\"Loss: {loss}\\n\")\n",
    "        # update the slope 'm' and y-intercept 'b' using gradient descent\n",
    "        m, b = gradient_descent(x, y, y_hat, m, b, learning_rate)\n",
    "\n",
    "    return m, b"
   ]
  },
  {
   "cell_type": "markdown",
   "metadata": {},
   "source": [
    "# Training"
   ]
  },
  {
   "cell_type": "code",
   "execution_count": 182,
   "metadata": {},
   "outputs": [
    {
     "name": "stdout",
     "output_type": "stream",
     "text": [
      "Epoch 1\n",
      "Loss: 14999.274651648544\n",
      "\n",
      "Epoch 2\n",
      "Loss: 3798.154568986231\n",
      "\n",
      "Epoch 3\n",
      "Loss: 1531.76500758041\n",
      "\n",
      "Epoch 4\n",
      "Loss: 1073.1927214023576\n",
      "\n",
      "Epoch 5\n",
      "Loss: 980.4068786949227\n",
      "\n",
      "Epoch 6\n",
      "Loss: 961.632787111888\n",
      "\n",
      "Epoch 7\n",
      "Loss: 957.8339342438771\n",
      "\n",
      "Epoch 8\n",
      "Loss: 957.0651106916904\n",
      "\n",
      "Epoch 9\n",
      "Loss: 956.9093710470119\n",
      "\n",
      "Epoch 10\n",
      "Loss: 956.877680340962\n",
      "\n"
     ]
    }
   ],
   "source": [
    "# Initial slope (co-effecient)\n",
    "m = np.random.randint(1, 10)\n",
    "\n",
    "# Initial y_intercept (bias)\n",
    "b = np.random.randint(1, 10)\n",
    "\n",
    "# Number of epochs to train for\n",
    "epochs = 10\n",
    "\n",
    "# Controls how aggressively the model should update the parameters\n",
    "# A small learning rate means slower but more accurate updates\n",
    "# A large learning rate means faster but more inaccurate updates\n",
    "learning_rate = 0.0001\n",
    "\n",
    "# Find the best-fit line\n",
    "m, b = train(x, y, m, b, epochs, learning_rate)"
   ]
  },
  {
   "cell_type": "code",
   "execution_count": 183,
   "metadata": {},
   "outputs": [
    {
     "name": "stdout",
     "output_type": "stream",
     "text": [
      "Learned parameters:\n",
      "m = 4.258294225532394\n",
      "b = 8.035834440952783\n"
     ]
    }
   ],
   "source": [
    "print(\"Learned parameters:\")\n",
    "print(f\"m = {m}\")\n",
    "print(f\"b = {b}\")"
   ]
  },
  {
   "cell_type": "markdown",
   "metadata": {},
   "source": [
    "# Plot regression line"
   ]
  },
  {
   "cell_type": "code",
   "execution_count": 184,
   "metadata": {},
   "outputs": [
    {
     "data": {
      "image/png": "[encoded data removed]",
      "text/plain": [
       "<Figure size 640x480 with 1 Axes>"
      ]
     },
     "metadata": {},
     "output_type": "display_data"
    }
   ],
   "source": [
    "plt.scatter(x, y)\n",
    "plt.plot(x, m*x+b, color=\"orange\")\n",
    "plt.title(\"Data with learned Regression line\")\n",
    "plt.xlabel(\"X\")\n",
    "plt.ylabel(\"Y\")\n",
    "plt.grid(True)\n",
    "plt.show()"
   ]
  }
 ],
 "metadata": {
  "kernelspec": {
   "display_name": "env",
   "language": "python",
   "name": "python3"
  },
  "language_info": {
   "codemirror_mode": {
    "name": "ipython",
    "version": 3
   },
   "file_extension": ".py",
   "mimetype": "text/x-python",
   "name": "python",
   "nbconvert_exporter": "python",
   "pygments_lexer": "ipython3",
   "version": "3.9.11"
  },
  "orig_nbformat": 4
 },
 "nbformat": 4,
 "nbformat_minor": 2
}
